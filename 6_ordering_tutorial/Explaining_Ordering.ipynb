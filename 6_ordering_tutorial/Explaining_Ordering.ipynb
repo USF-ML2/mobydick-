{
 "cells": [
  {
   "cell_type": "code",
   "execution_count": null,
   "metadata": {
    "collapsed": true
   },
   "outputs": [],
   "source": [
    "#Author: Abhishek Singh\n",
    "#Tutorial to understand the 32 & 64 bit smoothing in the winning submission"
   ]
  },
  {
   "cell_type": "code",
   "execution_count": 2,
   "metadata": {
    "collapsed": true
   },
   "outputs": [],
   "source": [
    "#Loading all the libraries\n",
    "import numpy as np\n",
    "import pylab as pl\n",
    "import pandas as pd"
   ]
  },
  {
   "cell_type": "code",
   "execution_count": 17,
   "metadata": {
    "collapsed": true
   },
   "outputs": [],
   "source": [
    "def orderMetric(truth,n):\n",
    "    \"\"\"This does 'n' bit smoothing excluding the centre \"\"\"\n",
    "    pad_ = np.zeros(2*n + len(truth))\n",
    "    pad_[n:(len(truth) + n)] = truth\n",
    "    return np.array([(np.sum(pad_[(i-n):i+n]) - pad_[i])/(2*n-1) for i in range(n,pad_.size-n)])"
   ]
  },
  {
   "cell_type": "code",
   "execution_count": 18,
   "metadata": {
    "collapsed": true
   },
   "outputs": [],
   "source": [
    "#Generating 1000 random numbers (25% 1's & 75% 0's)\n",
    "dict = {1:.25,0:.75}  ;  n  = 1000 #1000 numbers\n",
    "ak  =  dict.keys()  ;  av  =  dict.values() #keys & values\n",
    "mylist = np.random.choice(ak, n, p = av).tolist()"
   ]
  },
  {
   "cell_type": "code",
   "execution_count": 19,
   "metadata": {
    "collapsed": false
   },
   "outputs": [],
   "source": [
    "order32_ = orderMetric(mylist,32) #32 bit smoothing \n",
    "order64_ = orderMetric(mylist,64) #64 bit smoothing "
   ]
  },
  {
   "cell_type": "code",
   "execution_count": 20,
   "metadata": {
    "collapsed": true
   },
   "outputs": [],
   "source": [
    "# Reorder the data\n",
    "reorder32 = order32_.copy()\n",
    "reorder64 = order64_.copy()"
   ]
  },
  {
   "cell_type": "code",
   "execution_count": 33,
   "metadata": {
    "collapsed": true
   },
   "outputs": [],
   "source": [
    "#List of positions of 1's & 0's in the main list \n",
    "a1 = [i for i in range(len(mylist)) if mylist[i] == 1]\n",
    "a0 = [i for i in range(len(mylist)) if mylist[i] == 0]"
   ]
  },
  {
   "cell_type": "code",
   "execution_count": 40,
   "metadata": {
    "collapsed": false
   },
   "outputs": [],
   "source": [
    "k = 0\n",
    "for i in a1:\n",
    "    reorder32[k] = order32_[i] \n",
    "    reorder64[k] = order64_[i] \n",
    "    k += 1\n",
    "for i in a0:\n",
    "    reorder32[k] = order32_[i] \n",
    "    reorder64[k] = order64_[i] \n",
    "    k += 1"
   ]
  },
  {
   "cell_type": "code",
   "execution_count": 42,
   "metadata": {
    "collapsed": true
   },
   "outputs": [],
   "source": [
    "trainSize = 1000  ;  testSize = 2000 #Choosing test size twice that of training size"
   ]
  },
  {
   "cell_type": "code",
   "execution_count": 47,
   "metadata": {
    "collapsed": false
   },
   "outputs": [],
   "source": [
    "size_ = trainSize + testSize\n",
    "tt_ = size_ * 2 # since these are 2 second clips\n",
    "xs_ = np.linspace(0,tt_,testSize) #Create a sequence on test numbers\n",
    "xt_ = np.linspace(0,tt_,trainSize) #Create a sequence on training numbers\n",
    "test32_ = np.interp(xs_,xt_,order32_) #For Interpolation\n",
    "test64_ = np.interp(xs_,xt_,order64_) #For Interpolation"
   ]
  },
  {
   "cell_type": "code",
   "execution_count": null,
   "metadata": {
    "collapsed": true
   },
   "outputs": [],
   "source": []
  }
 ],
 "metadata": {
  "kernelspec": {
   "display_name": "Python 2",
   "language": "python",
   "name": "python2"
  },
  "language_info": {
   "codemirror_mode": {
    "name": "ipython",
    "version": 2
   },
   "file_extension": ".py",
   "mimetype": "text/x-python",
   "name": "python",
   "nbconvert_exporter": "python",
   "pygments_lexer": "ipython2",
   "version": "2.7.10"
  }
 },
 "nbformat": 4,
 "nbformat_minor": 0
}
